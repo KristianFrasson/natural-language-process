{
 "cells": [
  {
   "cell_type": "code",
   "execution_count": 67,
   "metadata": {},
   "outputs": [
    {
     "name": "stderr",
     "output_type": "stream",
     "text": [
      "[nltk_data] Downloading package brown to /home/codespace/nltk_data...\n",
      "[nltk_data]   Package brown is already up-to-date!\n"
     ]
    }
   ],
   "source": [
    "import nltk\n",
    "nltk.download('brown')\n",
    "from nltk.corpus import brown"
   ]
  },
  {
   "cell_type": "code",
   "execution_count": 68,
   "metadata": {},
   "outputs": [
    {
     "name": "stdout",
     "output_type": "stream",
     "text": [
      "editorial = 1003parágrafos\n",
      "fiction = 1043parágrafos\n"
     ]
    }
   ],
   "source": [
    "ed_p = brown.paras(categories='editorial')\n",
    "fic_p = brown.paras(categories='fiction')\n",
    "print ('editorial = ' + str(len(ed_p)) + 'parágrafos')\n",
    "print ('fiction = ' + str(len(fic_p)) + 'parágrafos')\n",
    "        "
   ]
  },
  {
   "cell_type": "code",
   "execution_count": 69,
   "metadata": {},
   "outputs": [
    {
     "name": "stdout",
     "output_type": "stream",
     "text": [
      "[[['Assembly', 'session', 'brought', 'much', 'good'], ['The', 'General', 'Assembly', ',', 'which', 'adjourns', 'today', ',', 'has', 'performed', 'in', 'an', 'atmosphere', 'of', 'crisis', 'and', 'struggle', 'from', 'the', 'day', 'it', 'convened', '.'], ['It', 'was', 'faced', 'immediately', 'with', 'a', 'showdown', 'on', 'the', 'schools', ',', 'an', 'issue', 'which', 'was', 'met', 'squarely', 'in', 'conjunction', 'with', 'the', 'governor', 'with', 'a', 'decision', 'not', 'to', 'risk', 'abandoning', 'public', 'education', '.']], [['There', 'followed', 'the', 'historic', 'appropriations', 'and', 'budget', 'fight', ',', 'in', 'which', 'the', 'General', 'Assembly', 'decided', 'to', 'tackle', 'executive', 'powers', '.'], ['The', 'final', 'decision', 'went', 'to', 'the', 'executive', 'but', 'a', 'way', 'has', 'been', 'opened', 'for', 'strengthening', 'budgeting', 'procedures', 'and', 'to', 'provide', 'legislators', 'information', 'they', 'need', '.']]]\n"
     ]
    }
   ],
   "source": [
    "print (ed_p[:2])"
   ]
  },
  {
   "cell_type": "code",
   "execution_count": 70,
   "metadata": {},
   "outputs": [],
   "source": [
    "def flatten(paragraph):\n",
    "    output = set([])\n",
    "    for item in paragraph:\n",
    "        if isinstance(item, (list,tuple)):\n",
    "            output.update(item)\n",
    "        else:\n",
    "            output.add(item)\n",
    "    return output"
   ]
  },
  {
   "cell_type": "code",
   "execution_count": 71,
   "metadata": {},
   "outputs": [],
   "source": [
    "ed_flat = []\n",
    "for paragraph in ed_p:\n",
    "    ed_flat.append(flatten(paragraph))\n",
    "fic_flat = []\n",
    "for paragraph in fic_p:\n",
    "    fic_flat.append(flatten(paragraph))"
   ]
  },
  {
   "cell_type": "code",
   "execution_count": 72,
   "metadata": {},
   "outputs": [],
   "source": [
    "labeled_data = []\n",
    "for paragraph in ed_flat:\n",
    "    labeled_data.append((paragraph, 'editorial'))\n",
    "for paragraph in fic_flat:\n",
    "    labeled_data.append((paragraph, 'fitcion'))"
   ]
  },
  {
   "cell_type": "code",
   "execution_count": 73,
   "metadata": {},
   "outputs": [
    {
     "name": "stdout",
     "output_type": "stream",
     "text": [
      "[({'faced', 'on', 'today', 'has', 'The', 'adjourns', 'from', 'struggle', 'session', ',', 'met', 'to', 'day', 'issue', 'It', 'squarely', 'good', 'of', 'and', 'with', 'governor', 'immediately', 'public', 'it', '.', 'risk', 'not', 'performed', 'education', 'General', 'schools', 'the', 'was', 'which', 'showdown', 'in', 'a', 'decision', 'abandoning', 'brought', 'an', 'conjunction', 'convened', 'much', 'crisis', 'Assembly', 'atmosphere'}, 'editorial'), ({'but', 'procedures', 'decided', 'has', 'The', 'fight', ',', 'to', 'historic', 'budgeting', 'provide', 'and', 'legislators', 'appropriations', 'opened', 'budget', 'been', 'followed', '.', 'need', 'There', 'for', 'General', 'powers', 'the', 'which', 'tackle', 'way', 'in', 'decision', 'went', 'a', 'they', 'final', 'strengthening', 'information', 'executive', 'Assembly'}, 'editorial')]\n"
     ]
    }
   ],
   "source": [
    "print (labeled_data[:2])"
   ]
  },
  {
   "cell_type": "code",
   "execution_count": 74,
   "metadata": {},
   "outputs": [],
   "source": [
    "from random import shuffle\n",
    "shuffle(labeled_data)"
   ]
  },
  {
   "cell_type": "code",
   "execution_count": 75,
   "metadata": {},
   "outputs": [],
   "source": [
    "tell_words = ['american', 'city', 'congress', 'country', 'county', 'editor', 'fact', 'government', 'national', 'nuclear', 'party', 'peace', 'political', 'power', 'president', 'public', 'state', 'states', 'united', 'war', 'washington', 'world', 'big', 'church', 'every', 'eyes', 'face', 'felt', 'found', 'god', 'hand', 'head', 'home', 'house', 'knew', 'moment', 'night', 'room', 'seemed',              'stood', 'think', 'though', 'thought', 'told', 'voice']"
   ]
  },
  {
   "cell_type": "code",
   "execution_count": 76,
   "metadata": {},
   "outputs": [],
   "source": [
    "def define_features(paragraph):\n",
    "    features = {}\n",
    "    for word in tell_words:\n",
    "        features[word] = word in paragraph\n",
    "    return features\n",
    "\n",
    "feature_data = []\n",
    "for labeled_paragraph in labeled_data:\n",
    "    paragraph, label = labeled_paragraph\n",
    "    feature_data.append((define_features(paragraph), label))"
   ]
  },
  {
   "cell_type": "code",
   "execution_count": 77,
   "metadata": {},
   "outputs": [
    {
     "data": {
      "text/plain": [
       "2046"
      ]
     },
     "execution_count": 77,
     "metadata": {},
     "output_type": "execute_result"
    }
   ],
   "source": [
    "train_data = feature_data[:1432]\n",
    "test_data = feature_data[1432:]\n",
    "len(feature_data)"
   ]
  },
  {
   "cell_type": "code",
   "execution_count": 78,
   "metadata": {},
   "outputs": [
    {
     "name": "stdout",
     "output_type": "stream",
     "text": [
      "({'american': False, 'city': False, 'congress': False, 'country': False, 'county': False, 'editor': False, 'fact': False, 'government': False, 'national': False, 'nuclear': False, 'party': False, 'peace': False, 'political': False, 'power': False, 'president': False, 'public': False, 'state': False, 'states': False, 'united': False, 'war': False, 'washington': False, 'world': False, 'big': False, 'church': False, 'every': False, 'eyes': False, 'face': False, 'felt': False, 'found': False, 'god': False, 'hand': False, 'head': False, 'home': False, 'house': False, 'knew': False, 'moment': False, 'night': False, 'room': False, 'seemed': False, 'stood': False, 'think': False, 'though': False, 'thought': False, 'told': False, 'voice': False}, 'fitcion')\n"
     ]
    }
   ],
   "source": [
    "print(train_data[0])"
   ]
  },
  {
   "cell_type": "code",
   "execution_count": 79,
   "metadata": {},
   "outputs": [
    {
     "data": {
      "text/plain": [
       "'editorial'"
      ]
     },
     "execution_count": 79,
     "metadata": {},
     "output_type": "execute_result"
    }
   ],
   "source": [
    "Bayes = nltk.NaiveBayesClassifier.train(train_data)\n",
    "Bayes.classify(train_data[0][0])"
   ]
  },
  {
   "cell_type": "code",
   "execution_count": 80,
   "metadata": {},
   "outputs": [
    {
     "name": "stdout",
     "output_type": "stream",
     "text": [
      "Most Informative Features\n",
      "                  editor = True           editor : fitcio =     19.5 : 1.0\n",
      "               political = True           editor : fitcio =     16.7 : 1.0\n",
      "                   stood = True           fitcio : editor =     15.4 : 1.0\n",
      "                    knew = True           fitcio : editor =     14.9 : 1.0\n",
      "              government = True           editor : fitcio =     11.7 : 1.0\n",
      "                national = True           editor : fitcio =     10.3 : 1.0\n",
      "                 thought = True           fitcio : editor =      9.1 : 1.0\n",
      "                  seemed = True           fitcio : editor =      9.0 : 1.0\n",
      "                 nuclear = True           editor : fitcio =      7.4 : 1.0\n",
      "                   power = True           editor : fitcio =      7.0 : 1.0\n"
     ]
    }
   ],
   "source": [
    "Bayes.show_most_informative_features()"
   ]
  },
  {
   "cell_type": "code",
   "execution_count": 81,
   "metadata": {},
   "outputs": [
    {
     "data": {
      "text/plain": [
       "0.6693811074918566"
      ]
     },
     "execution_count": 81,
     "metadata": {},
     "output_type": "execute_result"
    }
   ],
   "source": [
    "nltk.classify.accuracy(Bayes, test_data)"
   ]
  },
  {
   "cell_type": "code",
   "execution_count": null,
   "metadata": {},
   "outputs": [],
   "source": []
  }
 ],
 "metadata": {
  "kernelspec": {
   "display_name": "Python 3",
   "language": "python",
   "name": "python3"
  },
  "language_info": {
   "codemirror_mode": {
    "name": "ipython",
    "version": 3
   },
   "file_extension": ".py",
   "mimetype": "text/x-python",
   "name": "python",
   "nbconvert_exporter": "python",
   "pygments_lexer": "ipython3",
   "version": "3.12.1"
  }
 },
 "nbformat": 4,
 "nbformat_minor": 2
}
